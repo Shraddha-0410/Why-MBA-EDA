{
 "cells": [
  {
   "cell_type": "markdown",
   "id": "ef9563dd-a6ff-4747-811c-fe13d87bdd77",
   "metadata": {},
   "source": [
    "This study aims to identify the key factors that influence graduates' decisions to pursue an MBA. By analyzing variables such as annual salary before MBA, years of work experience, undergraduate GPA, management experience, expected post-MBA salary, MBA funding source, and reason for pursuing an MBA, this research seeks to uncover patterns and correlations that drive MBA enrollment decisions.\n",
    "\n",
    "The findings will provide educational institutions, policymakers, and prospective students with valuable insights into the most influential factors, helping them make informed decisions regarding program affordability, career advancement expectations, and return on investment."
   ]
  },
  {
   "cell_type": "code",
   "execution_count": 1,
   "id": "ceb898f7-dc83-4456-827f-08135ae2eaf5",
   "metadata": {},
   "outputs": [],
   "source": [
    "import numpy as np\n",
    "import matplotlib.pyplot as plt\n",
    "import seaborn as sns\n",
    "import pandas as pd\n",
    "import warnings \n",
    "warnings.filterwarnings('ignore')"
   ]
  },
  {
   "cell_type": "code",
   "execution_count": 2,
   "id": "f12bdc39-e1e0-49ce-b0a1-cc4af3759cc6",
   "metadata": {},
   "outputs": [
    {
     "data": {
      "text/html": [
       "<div>\n",
       "<style scoped>\n",
       "    .dataframe tbody tr th:only-of-type {\n",
       "        vertical-align: middle;\n",
       "    }\n",
       "\n",
       "    .dataframe tbody tr th {\n",
       "        vertical-align: top;\n",
       "    }\n",
       "\n",
       "    .dataframe thead th {\n",
       "        text-align: right;\n",
       "    }\n",
       "</style>\n",
       "<table border=\"1\" class=\"dataframe\">\n",
       "  <thead>\n",
       "    <tr style=\"text-align: right;\">\n",
       "      <th></th>\n",
       "      <th>Person ID</th>\n",
       "      <th>Age</th>\n",
       "      <th>Gender</th>\n",
       "      <th>Undergraduate Major</th>\n",
       "      <th>Undergraduate GPA</th>\n",
       "      <th>Years of Work Experience</th>\n",
       "      <th>Current Job Title</th>\n",
       "      <th>Annual Salary (Before MBA)</th>\n",
       "      <th>Has Management Experience</th>\n",
       "      <th>GRE/GMAT Score</th>\n",
       "      <th>Undergrad University Ranking</th>\n",
       "      <th>Entrepreneurial Interest</th>\n",
       "      <th>Networking Importance</th>\n",
       "      <th>MBA Funding Source</th>\n",
       "      <th>Desired Post-MBA Role</th>\n",
       "      <th>Expected Post-MBA Salary</th>\n",
       "      <th>Location Preference (Post-MBA)</th>\n",
       "      <th>Reason for MBA</th>\n",
       "      <th>Online vs. On-Campus MBA</th>\n",
       "      <th>Decided to Pursue MBA?</th>\n",
       "    </tr>\n",
       "  </thead>\n",
       "  <tbody>\n",
       "    <tr>\n",
       "      <th>0</th>\n",
       "      <td>1</td>\n",
       "      <td>27</td>\n",
       "      <td>Male</td>\n",
       "      <td>Arts</td>\n",
       "      <td>3.18</td>\n",
       "      <td>8</td>\n",
       "      <td>Entrepreneur</td>\n",
       "      <td>90624</td>\n",
       "      <td>No</td>\n",
       "      <td>688</td>\n",
       "      <td>185</td>\n",
       "      <td>7.9</td>\n",
       "      <td>7.6</td>\n",
       "      <td>Loan</td>\n",
       "      <td>Finance Manager</td>\n",
       "      <td>156165</td>\n",
       "      <td>International</td>\n",
       "      <td>Entrepreneurship</td>\n",
       "      <td>On-Campus</td>\n",
       "      <td>Yes</td>\n",
       "    </tr>\n",
       "    <tr>\n",
       "      <th>1</th>\n",
       "      <td>2</td>\n",
       "      <td>24</td>\n",
       "      <td>Male</td>\n",
       "      <td>Arts</td>\n",
       "      <td>3.03</td>\n",
       "      <td>4</td>\n",
       "      <td>Analyst</td>\n",
       "      <td>53576</td>\n",
       "      <td>Yes</td>\n",
       "      <td>791</td>\n",
       "      <td>405</td>\n",
       "      <td>3.8</td>\n",
       "      <td>4.1</td>\n",
       "      <td>Loan</td>\n",
       "      <td>Startup Founder</td>\n",
       "      <td>165612</td>\n",
       "      <td>International</td>\n",
       "      <td>Career Growth</td>\n",
       "      <td>Online</td>\n",
       "      <td>No</td>\n",
       "    </tr>\n",
       "    <tr>\n",
       "      <th>2</th>\n",
       "      <td>3</td>\n",
       "      <td>33</td>\n",
       "      <td>Female</td>\n",
       "      <td>Business</td>\n",
       "      <td>3.66</td>\n",
       "      <td>9</td>\n",
       "      <td>Engineer</td>\n",
       "      <td>79796</td>\n",
       "      <td>No</td>\n",
       "      <td>430</td>\n",
       "      <td>107</td>\n",
       "      <td>6.7</td>\n",
       "      <td>5.5</td>\n",
       "      <td>Scholarship</td>\n",
       "      <td>Consultant</td>\n",
       "      <td>122248</td>\n",
       "      <td>Domestic</td>\n",
       "      <td>Skill Enhancement</td>\n",
       "      <td>Online</td>\n",
       "      <td>No</td>\n",
       "    </tr>\n",
       "    <tr>\n",
       "      <th>3</th>\n",
       "      <td>4</td>\n",
       "      <td>31</td>\n",
       "      <td>Male</td>\n",
       "      <td>Engineering</td>\n",
       "      <td>2.46</td>\n",
       "      <td>1</td>\n",
       "      <td>Manager</td>\n",
       "      <td>105956</td>\n",
       "      <td>No</td>\n",
       "      <td>356</td>\n",
       "      <td>257</td>\n",
       "      <td>1.0</td>\n",
       "      <td>5.3</td>\n",
       "      <td>Loan</td>\n",
       "      <td>Consultant</td>\n",
       "      <td>123797</td>\n",
       "      <td>International</td>\n",
       "      <td>Entrepreneurship</td>\n",
       "      <td>On-Campus</td>\n",
       "      <td>No</td>\n",
       "    </tr>\n",
       "    <tr>\n",
       "      <th>4</th>\n",
       "      <td>5</td>\n",
       "      <td>28</td>\n",
       "      <td>Female</td>\n",
       "      <td>Business</td>\n",
       "      <td>2.75</td>\n",
       "      <td>9</td>\n",
       "      <td>Entrepreneur</td>\n",
       "      <td>96132</td>\n",
       "      <td>No</td>\n",
       "      <td>472</td>\n",
       "      <td>338</td>\n",
       "      <td>9.5</td>\n",
       "      <td>4.9</td>\n",
       "      <td>Loan</td>\n",
       "      <td>Consultant</td>\n",
       "      <td>197509</td>\n",
       "      <td>Domestic</td>\n",
       "      <td>Skill Enhancement</td>\n",
       "      <td>Online</td>\n",
       "      <td>Yes</td>\n",
       "    </tr>\n",
       "  </tbody>\n",
       "</table>\n",
       "</div>"
      ],
      "text/plain": [
       "   Person ID  Age  Gender Undergraduate Major  Undergraduate GPA  \\\n",
       "0          1   27    Male                Arts               3.18   \n",
       "1          2   24    Male                Arts               3.03   \n",
       "2          3   33  Female            Business               3.66   \n",
       "3          4   31    Male         Engineering               2.46   \n",
       "4          5   28  Female            Business               2.75   \n",
       "\n",
       "   Years of Work Experience Current Job Title  Annual Salary (Before MBA)  \\\n",
       "0                         8      Entrepreneur                       90624   \n",
       "1                         4           Analyst                       53576   \n",
       "2                         9          Engineer                       79796   \n",
       "3                         1           Manager                      105956   \n",
       "4                         9      Entrepreneur                       96132   \n",
       "\n",
       "  Has Management Experience  GRE/GMAT Score  Undergrad University Ranking  \\\n",
       "0                        No             688                           185   \n",
       "1                       Yes             791                           405   \n",
       "2                        No             430                           107   \n",
       "3                        No             356                           257   \n",
       "4                        No             472                           338   \n",
       "\n",
       "   Entrepreneurial Interest  Networking Importance MBA Funding Source  \\\n",
       "0                       7.9                    7.6               Loan   \n",
       "1                       3.8                    4.1               Loan   \n",
       "2                       6.7                    5.5        Scholarship   \n",
       "3                       1.0                    5.3               Loan   \n",
       "4                       9.5                    4.9               Loan   \n",
       "\n",
       "  Desired Post-MBA Role  Expected Post-MBA Salary  \\\n",
       "0       Finance Manager                    156165   \n",
       "1       Startup Founder                    165612   \n",
       "2            Consultant                    122248   \n",
       "3            Consultant                    123797   \n",
       "4            Consultant                    197509   \n",
       "\n",
       "  Location Preference (Post-MBA)     Reason for MBA Online vs. On-Campus MBA  \\\n",
       "0                  International   Entrepreneurship                On-Campus   \n",
       "1                  International      Career Growth                   Online   \n",
       "2                       Domestic  Skill Enhancement                   Online   \n",
       "3                  International   Entrepreneurship                On-Campus   \n",
       "4                       Domestic  Skill Enhancement                   Online   \n",
       "\n",
       "  Decided to Pursue MBA?  \n",
       "0                    Yes  \n",
       "1                     No  \n",
       "2                     No  \n",
       "3                     No  \n",
       "4                    Yes  "
      ]
     },
     "execution_count": 2,
     "metadata": {},
     "output_type": "execute_result"
    }
   ],
   "source": [
    "#Load Dataset\n",
    "df = pd.read_csv(\"mba_decision_dataset.csv\")\n",
    "df.head(5)"
   ]
  },
  {
   "cell_type": "code",
   "execution_count": 3,
   "id": "aae2b07d-485c-4f4f-9f4c-949625a7ffad",
   "metadata": {},
   "outputs": [
    {
     "data": {
      "text/plain": [
       "Index(['Person ID', 'Age', 'Gender', 'Undergraduate Major',\n",
       "       'Undergraduate GPA', 'Years of Work Experience', 'Current Job Title',\n",
       "       'Annual Salary (Before MBA)', 'Has Management Experience',\n",
       "       'GRE/GMAT Score', 'Undergrad University Ranking',\n",
       "       'Entrepreneurial Interest', 'Networking Importance',\n",
       "       'MBA Funding Source', 'Desired Post-MBA Role',\n",
       "       'Expected Post-MBA Salary', 'Location Preference (Post-MBA)',\n",
       "       'Reason for MBA', 'Online vs. On-Campus MBA', 'Decided to Pursue MBA?'],\n",
       "      dtype='object')"
      ]
     },
     "execution_count": 3,
     "metadata": {},
     "output_type": "execute_result"
    }
   ],
   "source": [
    "df.columns"
   ]
  },
  {
   "cell_type": "code",
   "execution_count": 4,
   "id": "1c6831b0-ca1a-4c01-a4d5-d307f9e61c0a",
   "metadata": {},
   "outputs": [
    {
     "data": {
      "text/plain": [
       "(10000, 20)"
      ]
     },
     "execution_count": 4,
     "metadata": {},
     "output_type": "execute_result"
    }
   ],
   "source": [
    "df.shape"
   ]
  },
  {
   "cell_type": "code",
   "execution_count": 5,
   "id": "a12fc3ef-eae8-4333-b9e9-92b01185b847",
   "metadata": {},
   "outputs": [
    {
     "data": {
      "text/plain": [
       "Person ID                         0\n",
       "Age                               0\n",
       "Gender                            0\n",
       "Undergraduate Major               0\n",
       "Undergraduate GPA                 0\n",
       "Years of Work Experience          0\n",
       "Current Job Title                 0\n",
       "Annual Salary (Before MBA)        0\n",
       "Has Management Experience         0\n",
       "GRE/GMAT Score                    0\n",
       "Undergrad University Ranking      0\n",
       "Entrepreneurial Interest          0\n",
       "Networking Importance             0\n",
       "MBA Funding Source                0\n",
       "Desired Post-MBA Role             0\n",
       "Expected Post-MBA Salary          0\n",
       "Location Preference (Post-MBA)    0\n",
       "Reason for MBA                    0\n",
       "Online vs. On-Campus MBA          0\n",
       "Decided to Pursue MBA?            0\n",
       "dtype: int64"
      ]
     },
     "execution_count": 5,
     "metadata": {},
     "output_type": "execute_result"
    }
   ],
   "source": [
    "#Finding Null values\n",
    "df.isna().sum()"
   ]
  },
  {
   "cell_type": "code",
   "execution_count": 6,
   "id": "c040065c-84fa-448f-8928-7829305ba4aa",
   "metadata": {},
   "outputs": [
    {
     "name": "stdout",
     "output_type": "stream",
     "text": [
      "<class 'pandas.core.frame.DataFrame'>\n",
      "RangeIndex: 10000 entries, 0 to 9999\n",
      "Data columns (total 20 columns):\n",
      " #   Column                          Non-Null Count  Dtype  \n",
      "---  ------                          --------------  -----  \n",
      " 0   Person ID                       10000 non-null  int64  \n",
      " 1   Age                             10000 non-null  int64  \n",
      " 2   Gender                          10000 non-null  object \n",
      " 3   Undergraduate Major             10000 non-null  object \n",
      " 4   Undergraduate GPA               10000 non-null  float64\n",
      " 5   Years of Work Experience        10000 non-null  int64  \n",
      " 6   Current Job Title               10000 non-null  object \n",
      " 7   Annual Salary (Before MBA)      10000 non-null  int64  \n",
      " 8   Has Management Experience       10000 non-null  object \n",
      " 9   GRE/GMAT Score                  10000 non-null  int64  \n",
      " 10  Undergrad University Ranking    10000 non-null  int64  \n",
      " 11  Entrepreneurial Interest        10000 non-null  float64\n",
      " 12  Networking Importance           10000 non-null  float64\n",
      " 13  MBA Funding Source              10000 non-null  object \n",
      " 14  Desired Post-MBA Role           10000 non-null  object \n",
      " 15  Expected Post-MBA Salary        10000 non-null  int64  \n",
      " 16  Location Preference (Post-MBA)  10000 non-null  object \n",
      " 17  Reason for MBA                  10000 non-null  object \n",
      " 18  Online vs. On-Campus MBA        10000 non-null  object \n",
      " 19  Decided to Pursue MBA?          10000 non-null  object \n",
      "dtypes: float64(3), int64(7), object(10)\n",
      "memory usage: 1.5+ MB\n"
     ]
    }
   ],
   "source": [
    "#Get the Information about Dataset\n",
    "df.info()"
   ]
  },
  {
   "cell_type": "code",
   "execution_count": 7,
   "id": "afa36f1c-1380-42d7-a8e6-db7ac21dd423",
   "metadata": {},
   "outputs": [],
   "source": [
    "#Changing the Datatype\n",
    "df['Person ID']=df['Person ID'].astype(object)"
   ]
  },
  {
   "cell_type": "code",
   "execution_count": 8,
   "id": "b397f7da-5fb8-41e3-86cd-668e58067495",
   "metadata": {},
   "outputs": [],
   "source": [
    "df['Gender'] = df['Gender'].astype('category')\n",
    "df['MBA Funding Source'] = df['MBA Funding Source'].astype('category')\n"
   ]
  },
  {
   "cell_type": "code",
   "execution_count": 9,
   "id": "a2c2c337-9d7b-4152-b3fb-688b3d5aafb4",
   "metadata": {},
   "outputs": [
    {
     "name": "stdout",
     "output_type": "stream",
     "text": [
      "<class 'pandas.core.frame.DataFrame'>\n",
      "RangeIndex: 10000 entries, 0 to 9999\n",
      "Data columns (total 20 columns):\n",
      " #   Column                          Non-Null Count  Dtype   \n",
      "---  ------                          --------------  -----   \n",
      " 0   Person ID                       10000 non-null  object  \n",
      " 1   Age                             10000 non-null  int64   \n",
      " 2   Gender                          10000 non-null  category\n",
      " 3   Undergraduate Major             10000 non-null  object  \n",
      " 4   Undergraduate GPA               10000 non-null  float64 \n",
      " 5   Years of Work Experience        10000 non-null  int64   \n",
      " 6   Current Job Title               10000 non-null  object  \n",
      " 7   Annual Salary (Before MBA)      10000 non-null  int64   \n",
      " 8   Has Management Experience       10000 non-null  object  \n",
      " 9   GRE/GMAT Score                  10000 non-null  int64   \n",
      " 10  Undergrad University Ranking    10000 non-null  int64   \n",
      " 11  Entrepreneurial Interest        10000 non-null  float64 \n",
      " 12  Networking Importance           10000 non-null  float64 \n",
      " 13  MBA Funding Source              10000 non-null  category\n",
      " 14  Desired Post-MBA Role           10000 non-null  object  \n",
      " 15  Expected Post-MBA Salary        10000 non-null  int64   \n",
      " 16  Location Preference (Post-MBA)  10000 non-null  object  \n",
      " 17  Reason for MBA                  10000 non-null  object  \n",
      " 18  Online vs. On-Campus MBA        10000 non-null  object  \n",
      " 19  Decided to Pursue MBA?          10000 non-null  object  \n",
      "dtypes: category(2), float64(3), int64(6), object(9)\n",
      "memory usage: 1.4+ MB\n"
     ]
    }
   ],
   "source": [
    "df.info()"
   ]
  },
  {
   "cell_type": "code",
   "execution_count": 10,
   "id": "dd6211ca-4435-4c6f-8b82-89a9f8dc72a3",
   "metadata": {},
   "outputs": [
    {
     "data": {
      "text/plain": [
       "np.int64(0)"
      ]
     },
     "execution_count": 10,
     "metadata": {},
     "output_type": "execute_result"
    }
   ],
   "source": [
    "#finding the duplicates\n",
    "df['Person ID'].duplicated().sum()"
   ]
  },
  {
   "cell_type": "code",
   "execution_count": 11,
   "id": "6d037947-6eac-47e7-bdfc-221ae2a6775d",
   "metadata": {},
   "outputs": [
    {
     "data": {
      "text/plain": [
       "np.int64(0)"
      ]
     },
     "execution_count": 11,
     "metadata": {},
     "output_type": "execute_result"
    }
   ],
   "source": [
    "df.duplicated().sum()"
   ]
  },
  {
   "cell_type": "code",
   "execution_count": 12,
   "id": "e80d3718-9762-4615-94b5-539106fa6c9f",
   "metadata": {},
   "outputs": [
    {
     "data": {
      "text/html": [
       "<div>\n",
       "<style scoped>\n",
       "    .dataframe tbody tr th:only-of-type {\n",
       "        vertical-align: middle;\n",
       "    }\n",
       "\n",
       "    .dataframe tbody tr th {\n",
       "        vertical-align: top;\n",
       "    }\n",
       "\n",
       "    .dataframe thead th {\n",
       "        text-align: right;\n",
       "    }\n",
       "</style>\n",
       "<table border=\"1\" class=\"dataframe\">\n",
       "  <thead>\n",
       "    <tr style=\"text-align: right;\">\n",
       "      <th></th>\n",
       "      <th>Age</th>\n",
       "      <th>Undergraduate GPA</th>\n",
       "      <th>Years of Work Experience</th>\n",
       "      <th>Annual Salary (Before MBA)</th>\n",
       "      <th>GRE/GMAT Score</th>\n",
       "      <th>Undergrad University Ranking</th>\n",
       "      <th>Entrepreneurial Interest</th>\n",
       "      <th>Networking Importance</th>\n",
       "      <th>Expected Post-MBA Salary</th>\n",
       "    </tr>\n",
       "  </thead>\n",
       "  <tbody>\n",
       "    <tr>\n",
       "      <th>count</th>\n",
       "      <td>10000.000000</td>\n",
       "      <td>10000.000000</td>\n",
       "      <td>10000.00000</td>\n",
       "      <td>10000.000000</td>\n",
       "      <td>10000.00000</td>\n",
       "      <td>10000.00000</td>\n",
       "      <td>10000.000000</td>\n",
       "      <td>10000.000000</td>\n",
       "      <td>10000.000000</td>\n",
       "    </tr>\n",
       "    <tr>\n",
       "      <th>mean</th>\n",
       "      <td>27.494300</td>\n",
       "      <td>2.991611</td>\n",
       "      <td>4.53350</td>\n",
       "      <td>75166.406400</td>\n",
       "      <td>524.44690</td>\n",
       "      <td>247.03620</td>\n",
       "      <td>5.477830</td>\n",
       "      <td>5.522170</td>\n",
       "      <td>130321.228900</td>\n",
       "    </tr>\n",
       "    <tr>\n",
       "      <th>std</th>\n",
       "      <td>4.031823</td>\n",
       "      <td>0.573509</td>\n",
       "      <td>2.86166</td>\n",
       "      <td>25850.070599</td>\n",
       "      <td>158.06376</td>\n",
       "      <td>144.87624</td>\n",
       "      <td>2.585864</td>\n",
       "      <td>2.588422</td>\n",
       "      <td>40598.421993</td>\n",
       "    </tr>\n",
       "    <tr>\n",
       "      <th>min</th>\n",
       "      <td>21.000000</td>\n",
       "      <td>2.000000</td>\n",
       "      <td>0.00000</td>\n",
       "      <td>30013.000000</td>\n",
       "      <td>250.00000</td>\n",
       "      <td>1.00000</td>\n",
       "      <td>1.000000</td>\n",
       "      <td>1.000000</td>\n",
       "      <td>60001.000000</td>\n",
       "    </tr>\n",
       "    <tr>\n",
       "      <th>25%</th>\n",
       "      <td>24.000000</td>\n",
       "      <td>2.490000</td>\n",
       "      <td>2.00000</td>\n",
       "      <td>52862.000000</td>\n",
       "      <td>390.00000</td>\n",
       "      <td>121.00000</td>\n",
       "      <td>3.200000</td>\n",
       "      <td>3.300000</td>\n",
       "      <td>95320.500000</td>\n",
       "    </tr>\n",
       "    <tr>\n",
       "      <th>50%</th>\n",
       "      <td>27.000000</td>\n",
       "      <td>2.990000</td>\n",
       "      <td>5.00000</td>\n",
       "      <td>74829.500000</td>\n",
       "      <td>524.00000</td>\n",
       "      <td>243.00000</td>\n",
       "      <td>5.500000</td>\n",
       "      <td>5.500000</td>\n",
       "      <td>130155.500000</td>\n",
       "    </tr>\n",
       "    <tr>\n",
       "      <th>75%</th>\n",
       "      <td>31.000000</td>\n",
       "      <td>3.480000</td>\n",
       "      <td>7.00000</td>\n",
       "      <td>97273.000000</td>\n",
       "      <td>661.00000</td>\n",
       "      <td>373.00000</td>\n",
       "      <td>7.700000</td>\n",
       "      <td>7.700000</td>\n",
       "      <td>165757.000000</td>\n",
       "    </tr>\n",
       "    <tr>\n",
       "      <th>max</th>\n",
       "      <td>34.000000</td>\n",
       "      <td>4.000000</td>\n",
       "      <td>9.00000</td>\n",
       "      <td>119966.000000</td>\n",
       "      <td>799.00000</td>\n",
       "      <td>499.00000</td>\n",
       "      <td>10.000000</td>\n",
       "      <td>10.000000</td>\n",
       "      <td>199999.000000</td>\n",
       "    </tr>\n",
       "  </tbody>\n",
       "</table>\n",
       "</div>"
      ],
      "text/plain": [
       "                Age  Undergraduate GPA  Years of Work Experience  \\\n",
       "count  10000.000000       10000.000000               10000.00000   \n",
       "mean      27.494300           2.991611                   4.53350   \n",
       "std        4.031823           0.573509                   2.86166   \n",
       "min       21.000000           2.000000                   0.00000   \n",
       "25%       24.000000           2.490000                   2.00000   \n",
       "50%       27.000000           2.990000                   5.00000   \n",
       "75%       31.000000           3.480000                   7.00000   \n",
       "max       34.000000           4.000000                   9.00000   \n",
       "\n",
       "       Annual Salary (Before MBA)  GRE/GMAT Score  \\\n",
       "count                10000.000000     10000.00000   \n",
       "mean                 75166.406400       524.44690   \n",
       "std                  25850.070599       158.06376   \n",
       "min                  30013.000000       250.00000   \n",
       "25%                  52862.000000       390.00000   \n",
       "50%                  74829.500000       524.00000   \n",
       "75%                  97273.000000       661.00000   \n",
       "max                 119966.000000       799.00000   \n",
       "\n",
       "       Undergrad University Ranking  Entrepreneurial Interest  \\\n",
       "count                   10000.00000              10000.000000   \n",
       "mean                      247.03620                  5.477830   \n",
       "std                       144.87624                  2.585864   \n",
       "min                         1.00000                  1.000000   \n",
       "25%                       121.00000                  3.200000   \n",
       "50%                       243.00000                  5.500000   \n",
       "75%                       373.00000                  7.700000   \n",
       "max                       499.00000                 10.000000   \n",
       "\n",
       "       Networking Importance  Expected Post-MBA Salary  \n",
       "count           10000.000000              10000.000000  \n",
       "mean                5.522170             130321.228900  \n",
       "std                 2.588422              40598.421993  \n",
       "min                 1.000000              60001.000000  \n",
       "25%                 3.300000              95320.500000  \n",
       "50%                 5.500000             130155.500000  \n",
       "75%                 7.700000             165757.000000  \n",
       "max                10.000000             199999.000000  "
      ]
     },
     "execution_count": 12,
     "metadata": {},
     "output_type": "execute_result"
    }
   ],
   "source": [
    "df.describe()"
   ]
  },
  {
   "cell_type": "code",
   "execution_count": 13,
   "id": "5a356af3-9eca-48ea-96e6-f10ccb572ed8",
   "metadata": {},
   "outputs": [
    {
     "data": {
      "text/plain": [
       "array([27, 24, 33, 31, 28, 25, 30, 23, 26, 22, 32, 34, 21, 29])"
      ]
     },
     "execution_count": 13,
     "metadata": {},
     "output_type": "execute_result"
    }
   ],
   "source": [
    "df['Age'].unique()"
   ]
  },
  {
   "cell_type": "code",
   "execution_count": 14,
   "id": "03e6f401-f8fb-4034-988d-469941893755",
   "metadata": {},
   "outputs": [
    {
     "data": {
      "text/html": [
       "<div>\n",
       "<style scoped>\n",
       "    .dataframe tbody tr th:only-of-type {\n",
       "        vertical-align: middle;\n",
       "    }\n",
       "\n",
       "    .dataframe tbody tr th {\n",
       "        vertical-align: top;\n",
       "    }\n",
       "\n",
       "    .dataframe thead th {\n",
       "        text-align: right;\n",
       "    }\n",
       "</style>\n",
       "<table border=\"1\" class=\"dataframe\">\n",
       "  <thead>\n",
       "    <tr style=\"text-align: right;\">\n",
       "      <th></th>\n",
       "      <th>Person ID</th>\n",
       "      <th>Age</th>\n",
       "      <th>Gender</th>\n",
       "      <th>Undergraduate Major</th>\n",
       "      <th>Undergraduate GPA</th>\n",
       "      <th>Years of Work Experience</th>\n",
       "      <th>Current Job Title</th>\n",
       "      <th>Annual Salary (Before MBA)</th>\n",
       "      <th>Has Management Experience</th>\n",
       "      <th>GRE/GMAT Score</th>\n",
       "      <th>Undergrad University Ranking</th>\n",
       "      <th>Entrepreneurial Interest</th>\n",
       "      <th>Networking Importance</th>\n",
       "      <th>MBA Funding Source</th>\n",
       "      <th>Desired Post-MBA Role</th>\n",
       "      <th>Expected Post-MBA Salary</th>\n",
       "      <th>Location Preference (Post-MBA)</th>\n",
       "      <th>Reason for MBA</th>\n",
       "      <th>Online vs. On-Campus MBA</th>\n",
       "      <th>Decided to Pursue MBA?</th>\n",
       "    </tr>\n",
       "  </thead>\n",
       "  <tbody>\n",
       "    <tr>\n",
       "      <th>0</th>\n",
       "      <td>1</td>\n",
       "      <td>27</td>\n",
       "      <td>Male</td>\n",
       "      <td>Arts</td>\n",
       "      <td>3.18</td>\n",
       "      <td>8</td>\n",
       "      <td>Entrepreneur</td>\n",
       "      <td>90624</td>\n",
       "      <td>No</td>\n",
       "      <td>688</td>\n",
       "      <td>185</td>\n",
       "      <td>7.9</td>\n",
       "      <td>7.6</td>\n",
       "      <td>Loan</td>\n",
       "      <td>Finance Manager</td>\n",
       "      <td>156165</td>\n",
       "      <td>International</td>\n",
       "      <td>Entrepreneurship</td>\n",
       "      <td>On-Campus</td>\n",
       "      <td>Yes</td>\n",
       "    </tr>\n",
       "    <tr>\n",
       "      <th>1</th>\n",
       "      <td>2</td>\n",
       "      <td>24</td>\n",
       "      <td>Male</td>\n",
       "      <td>Arts</td>\n",
       "      <td>3.03</td>\n",
       "      <td>4</td>\n",
       "      <td>Analyst</td>\n",
       "      <td>53576</td>\n",
       "      <td>Yes</td>\n",
       "      <td>791</td>\n",
       "      <td>405</td>\n",
       "      <td>3.8</td>\n",
       "      <td>4.1</td>\n",
       "      <td>Loan</td>\n",
       "      <td>Startup Founder</td>\n",
       "      <td>165612</td>\n",
       "      <td>International</td>\n",
       "      <td>Career Growth</td>\n",
       "      <td>Online</td>\n",
       "      <td>No</td>\n",
       "    </tr>\n",
       "    <tr>\n",
       "      <th>2</th>\n",
       "      <td>3</td>\n",
       "      <td>33</td>\n",
       "      <td>Female</td>\n",
       "      <td>Business</td>\n",
       "      <td>3.66</td>\n",
       "      <td>9</td>\n",
       "      <td>Engineer</td>\n",
       "      <td>79796</td>\n",
       "      <td>No</td>\n",
       "      <td>430</td>\n",
       "      <td>107</td>\n",
       "      <td>6.7</td>\n",
       "      <td>5.5</td>\n",
       "      <td>Scholarship</td>\n",
       "      <td>Consultant</td>\n",
       "      <td>122248</td>\n",
       "      <td>Domestic</td>\n",
       "      <td>Skill Enhancement</td>\n",
       "      <td>Online</td>\n",
       "      <td>No</td>\n",
       "    </tr>\n",
       "    <tr>\n",
       "      <th>3</th>\n",
       "      <td>4</td>\n",
       "      <td>31</td>\n",
       "      <td>Male</td>\n",
       "      <td>Engineering</td>\n",
       "      <td>2.46</td>\n",
       "      <td>1</td>\n",
       "      <td>Manager</td>\n",
       "      <td>105956</td>\n",
       "      <td>No</td>\n",
       "      <td>356</td>\n",
       "      <td>257</td>\n",
       "      <td>1.0</td>\n",
       "      <td>5.3</td>\n",
       "      <td>Loan</td>\n",
       "      <td>Consultant</td>\n",
       "      <td>123797</td>\n",
       "      <td>International</td>\n",
       "      <td>Entrepreneurship</td>\n",
       "      <td>On-Campus</td>\n",
       "      <td>No</td>\n",
       "    </tr>\n",
       "    <tr>\n",
       "      <th>4</th>\n",
       "      <td>5</td>\n",
       "      <td>28</td>\n",
       "      <td>Female</td>\n",
       "      <td>Business</td>\n",
       "      <td>2.75</td>\n",
       "      <td>9</td>\n",
       "      <td>Entrepreneur</td>\n",
       "      <td>96132</td>\n",
       "      <td>No</td>\n",
       "      <td>472</td>\n",
       "      <td>338</td>\n",
       "      <td>9.5</td>\n",
       "      <td>4.9</td>\n",
       "      <td>Loan</td>\n",
       "      <td>Consultant</td>\n",
       "      <td>197509</td>\n",
       "      <td>Domestic</td>\n",
       "      <td>Skill Enhancement</td>\n",
       "      <td>Online</td>\n",
       "      <td>Yes</td>\n",
       "    </tr>\n",
       "  </tbody>\n",
       "</table>\n",
       "</div>"
      ],
      "text/plain": [
       "  Person ID  Age  Gender Undergraduate Major  Undergraduate GPA  \\\n",
       "0         1   27    Male                Arts               3.18   \n",
       "1         2   24    Male                Arts               3.03   \n",
       "2         3   33  Female            Business               3.66   \n",
       "3         4   31    Male         Engineering               2.46   \n",
       "4         5   28  Female            Business               2.75   \n",
       "\n",
       "   Years of Work Experience Current Job Title  Annual Salary (Before MBA)  \\\n",
       "0                         8      Entrepreneur                       90624   \n",
       "1                         4           Analyst                       53576   \n",
       "2                         9          Engineer                       79796   \n",
       "3                         1           Manager                      105956   \n",
       "4                         9      Entrepreneur                       96132   \n",
       "\n",
       "  Has Management Experience  GRE/GMAT Score  Undergrad University Ranking  \\\n",
       "0                        No             688                           185   \n",
       "1                       Yes             791                           405   \n",
       "2                        No             430                           107   \n",
       "3                        No             356                           257   \n",
       "4                        No             472                           338   \n",
       "\n",
       "   Entrepreneurial Interest  Networking Importance MBA Funding Source  \\\n",
       "0                       7.9                    7.6               Loan   \n",
       "1                       3.8                    4.1               Loan   \n",
       "2                       6.7                    5.5        Scholarship   \n",
       "3                       1.0                    5.3               Loan   \n",
       "4                       9.5                    4.9               Loan   \n",
       "\n",
       "  Desired Post-MBA Role  Expected Post-MBA Salary  \\\n",
       "0       Finance Manager                    156165   \n",
       "1       Startup Founder                    165612   \n",
       "2            Consultant                    122248   \n",
       "3            Consultant                    123797   \n",
       "4            Consultant                    197509   \n",
       "\n",
       "  Location Preference (Post-MBA)     Reason for MBA Online vs. On-Campus MBA  \\\n",
       "0                  International   Entrepreneurship                On-Campus   \n",
       "1                  International      Career Growth                   Online   \n",
       "2                       Domestic  Skill Enhancement                   Online   \n",
       "3                  International   Entrepreneurship                On-Campus   \n",
       "4                       Domestic  Skill Enhancement                   Online   \n",
       "\n",
       "  Decided to Pursue MBA?  \n",
       "0                    Yes  \n",
       "1                     No  \n",
       "2                     No  \n",
       "3                     No  \n",
       "4                    Yes  "
      ]
     },
     "execution_count": 14,
     "metadata": {},
     "output_type": "execute_result"
    }
   ],
   "source": [
    "#get first 5 rows\n",
    "df.head(5)"
   ]
  },
  {
   "cell_type": "code",
   "execution_count": null,
   "id": "4f8d464c-97f7-435b-a613-6e655ac84aba",
   "metadata": {},
   "outputs": [],
   "source": []
  },
  {
   "cell_type": "markdown",
   "id": "29926e45-7ea1-4256-88f2-7d1f40e58e93",
   "metadata": {},
   "source": [
    "**EXPLORATORY DATA ANALYSIS**"
   ]
  },
  {
   "cell_type": "markdown",
   "id": "9ee0a0d4-3796-4ffc-9c21-1f5550c8237a",
   "metadata": {},
   "source": [
    "AGE"
   ]
  },
  {
   "cell_type": "code",
   "execution_count": 15,
   "id": "c8be4dfc-14b4-432f-989d-369942c98ff5",
   "metadata": {},
   "outputs": [],
   "source": [
    "bins = [20, 25, 30, 35, 100]  # 100 as upper bound for any age above 35\n",
    "labels = ['20-24', '25-29', '30-34', '35+']\n",
    "\n",
    "# Create Age Group column\n",
    "df['Age Group'] = pd.cut(df['Age'], bins=bins, labels=labels, right=False)\n"
   ]
  },
  {
   "cell_type": "code",
   "execution_count": 16,
   "id": "80e31d9e-2643-4b91-942d-d0fc3b0219d9",
   "metadata": {},
   "outputs": [
    {
     "data": {
      "image/png": "[encoded data removed]",
      "text/plain": [
       "<Figure size 600x400 with 1 Axes>"
      ]
     },
     "metadata": {},
     "output_type": "display_data"
    }
   ],
   "source": [
    "plt.figure(figsize=(6, 4))\n",
    "ax=sns.countplot(x='Age Group', data=df,hue='Decided to Pursue MBA?' ,order=labels)\n",
    "for bar in ax.containers:\n",
    "    ax.bar_label(bar)\n",
    "plt.title(\"Distribution of Age Groups\")\n",
    "plt.legend(title=\"Pursued MBA?\", loc=\"upper left\", bbox_to_anchor=(1, 1))\n",
    "plt.show()"
   ]
  },
  {
   "cell_type": "markdown",
   "id": "b1faeb03-3c04-4b4e-b34e-cf2164a93fdd",
   "metadata": {},
   "source": [
    "From the above graph we can conclude that the large number of individuals in 30 to 35 age group persue an MBA, after that the individuals from 25 to 29 age group decide to persue an MBA  "
   ]
  },
  {
   "cell_type": "code",
   "execution_count": null,
   "id": "47dde910-9369-4381-a3dc-34226b879efa",
   "metadata": {},
   "outputs": [],
   "source": []
  },
  {
   "cell_type": "markdown",
   "id": "4f9fa2c3-ad94-4dc7-be71-0ff5235f3f38",
   "metadata": {},
   "source": [
    "Undergraduation Major"
   ]
  },
  {
   "cell_type": "code",
   "execution_count": 17,
   "id": "cd2b8bb9-c594-413e-9611-fe8cbb248985",
   "metadata": {},
   "outputs": [
    {
     "data": {
      "image/png": "[encoded data removed]",
      "text/plain": [
       "<Figure size 700x400 with 1 Axes>"
      ]
     },
     "metadata": {},
     "output_type": "display_data"
    }
   ],
   "source": [
    "plt.figure(figsize=(7,4))\n",
    "ax=sns.countplot(x='Undergraduate Major',data=df,hue=\"Decided to Pursue MBA?\", palette='viridis')\n",
    "\n",
    "for bar in ax.containers:\n",
    "    ax.bar_label(bar)\n",
    "plt.title('Student Decide To Pursue MBA Based On Undergraduate Major')\n",
    "plt.xlabel('Undergraduate Major')\n",
    "plt.legend(title=\"Pursued MBA?\", loc=\"upper left\", bbox_to_anchor=(1, 1))\n",
    "plt.show()"
   ]
  },
  {
   "cell_type": "markdown",
   "id": "f27466f1-9af5-463d-89e9-8749fd0490ad",
   "metadata": {},
   "source": [
    "Economics and Science majors exhibit the highest number of students going for an MBA.  While Engineering also shows a substantial interest, it's less than Economics and Science."
   ]
  },
  {
   "cell_type": "markdown",
   "id": "6f77ad93-1af8-4102-9078-72275625396f",
   "metadata": {},
   "source": [
    "Undergraduate GPA"
   ]
  },
  {
   "cell_type": "code",
   "execution_count": 18,
   "id": "b3450d4b-df38-4656-90b7-7050d10dbe4b",
   "metadata": {},
   "outputs": [
    {
     "data": {
      "image/png": "[encoded data removed]",
      "text/plain": [
       "<Figure size 1500x400 with 1 Axes>"
      ]
     },
     "metadata": {},
     "output_type": "display_data"
    }
   ],
   "source": [
    "plt.figure(figsize=(15,4))\n",
    "sns.boxplot(x='Undergraduate GPA',data=df,hue=\"Decided to Pursue MBA?\", palette='viridis')\n",
    "plt.title('Undergraduate GPA vs Decide to pursue MBA',fontsize=15)\n",
    "plt.xlabel('Undergraduate GPA',fontsize=12)\n",
    "plt.legend(title=\"Pursued MBA?\", loc=\"upper left\", bbox_to_anchor=(1, 1))\n",
    "plt.show()"
   ]
  },
  {
   "cell_type": "code",
   "execution_count": null,
   "id": "573c523a-d97d-4a7f-bed1-5963811848a5",
   "metadata": {},
   "outputs": [],
   "source": []
  },
  {
   "cell_type": "markdown",
   "id": "c25c3fa7-dcd2-4b28-93c6-162d89191103",
   "metadata": {},
   "source": [
    "The orange line inside each box represents the median GPA for that group.  Visually, the median GPA for those who decided not to pursue an MBA appears slightly lower than the median GPA for those who did decide to pursue an MBA.  This suggests a tendency for individuals with higher undergraduate GPAs to be more inclined towards MBA programs. "
   ]
  },
  {
   "cell_type": "code",
   "execution_count": 19,
   "id": "d69f054c-9d35-4ca6-bafe-3fc71df0d989",
   "metadata": {},
   "outputs": [
    {
     "ename": "SyntaxError",
     "evalue": "invalid syntax (1846984789.py, line 1)",
     "output_type": "error",
     "traceback": [
      "\u001b[1;36m  Cell \u001b[1;32mIn[19], line 1\u001b[1;36m\u001b[0m\n\u001b[1;33m    MBA decision across different age group(Gender wise)\u001b[0m\n\u001b[1;37m        ^\u001b[0m\n\u001b[1;31mSyntaxError\u001b[0m\u001b[1;31m:\u001b[0m invalid syntax\n"
     ]
    }
   ],
   "source": [
    "MBA decision across different age group(Gender wise)"
   ]
  },
  {
   "cell_type": "code",
   "execution_count": null,
   "id": "025ddc62-cc3d-4244-88b0-2f67638f937c",
   "metadata": {},
   "outputs": [],
   "source": [
    "# Create a facet grid for Gender\n",
    "g = sns.catplot(\n",
    "    x=\"Age Group\",\n",
    "    hue=\"Decided to Pursue MBA?\",\n",
    "    col=\"Gender\",\n",
    "    data=df,\n",
    "    kind=\"count\",\n",
    "    order=['20-24', '25-29', '30-34', '35+'],\n",
    "    height=6,\n",
    "    aspect=1.5\n",
    ")\n",
    "# Adjust the labels and title\n",
    "g.set_axis_labels(\"Age Group\", \"Count\", fontsize=20)  \n",
    "g.set_titles(\"Gender: {col_name}\", fontsize=30)  \n",
    "g.fig.subplots_adjust(top=0.85)\n",
    "g.fig.suptitle(\"MBA Decision Across Age Groups (Separated by Gender)\", fontsize=30)  \n",
    "\n",
    "# Increase font size of ticks\n",
    "for ax in g.axes.flat:\n",
    "    ax.tick_params(axis='both', labelsize=18)  # Increase font size of ticks\n",
    "for ax in g.axes.flat:\n",
    "    ax.set_title(ax.get_title(), fontsize=18)  # Increase the font size of subplot titles\n",
    "\n",
    "plt.show()"
   ]
  },
  {
   "cell_type": "markdown",
   "id": "0888da67-d309-47a1-9069-10408b650da0",
   "metadata": {},
   "source": [
    "the graph highlights the concentration of MBA interest within the 25-34 age group for both males and females, with males having a higher overall count."
   ]
  },
  {
   "cell_type": "code",
   "execution_count": null,
   "id": "c4dbd1b7-2513-447e-9b2e-522edd180aed",
   "metadata": {},
   "outputs": [],
   "source": [
    "# Reshape the data for plotting\n",
    "df_melted = df[['Annual Salary (Before MBA)', 'Expected Post-MBA Salary']].melt(var_name='Salary Type', value_name='Salary')\n",
    "\n",
    "# Create a box plot\n",
    "plt.figure(figsize=(10, 5))\n",
    "sns.boxplot(x='Salary Type', y='Salary', data=df_melted, palette='Set1')\n",
    "plt.title('Salary Distribution Before and After MBA')\n",
    "plt.show()"
   ]
  },
  {
   "cell_type": "markdown",
   "id": "208375c5-e8c0-443c-99a0-567d45e3beb5",
   "metadata": {},
   "source": [
    " the box plot strongly suggests that individuals expect a significant increase and a wider range of potential salaries after completing an MBA."
   ]
  },
  {
   "cell_type": "code",
   "execution_count": null,
   "id": "c364527d-dbd7-4c4d-ba2c-07bcb778315e",
   "metadata": {},
   "outputs": [],
   "source": [
    "sns.countplot(data=df, x='Has Management Experience', hue='Decided to Pursue MBA?',palette='Set2')\n",
    "plt.title('Management Experience vs. Decision to Pursue MBA?')\n",
    "plt.xlabel('Management Experience (Yes/No)')\n",
    "plt.ylabel('Count')\n",
    "plt.show()"
   ]
  },
  {
   "cell_type": "markdown",
   "id": "9f89ff9d-2d87-4c80-b91a-6b1cc660ecd9",
   "metadata": {},
   "source": [
    "A higher proportion of individuals without management experience decided to pursue an MBA compared to those with experience."
   ]
  },
  {
   "cell_type": "code",
   "execution_count": null,
   "id": "31f128ee-d1c3-41cb-9595-a679ebb283a1",
   "metadata": {},
   "outputs": [],
   "source": [
    "ax=sns.countplot(data=df, x='MBA Funding Source',hue='Decided to Pursue MBA?',palette='Set3')\n",
    "for bar in ax.containers:\n",
    "    ax.bar_label(bar)\n",
    "plt.title('Distribution of MBA Funding Source vs Decision to Pursue MBA?')\n",
    "plt.xlabel('Funding Source')\n",
    "plt.ylabel('Count')\n",
    "plt.legend(title=\"Pursued MBA?\", loc=\"upper left\", bbox_to_anchor=(1, 1))\n",
    "plt.show()"
   ]
  },
  {
   "cell_type": "markdown",
   "id": "95f45610-275a-42d5-afbb-6433676ff545",
   "metadata": {},
   "source": [
    "Loan and self-funding are the most common funding sources among those who decided to pursue an MBA."
   ]
  },
  {
   "cell_type": "code",
   "execution_count": null,
   "id": "6a8b1092-cdbf-445e-b696-69236c8d8ca5",
   "metadata": {},
   "outputs": [],
   "source": [
    "ax=sns.countplot(data=df, x='Online vs. On-Campus MBA',hue='Decided to Pursue MBA?',palette='viridis')\n",
    "for bar in ax.containers:\n",
    "    ax.bar_label(bar)\n",
    "plt.title('Preference for Online vs. On-Campus MBA vs Decision to Pursue MBA?')\n",
    "plt.xlabel('Program Type')\n",
    "plt.ylabel('Count')\n",
    "plt.legend(title=\"Pursued MBA?\", loc=\"upper left\", bbox_to_anchor=(1, 1))\n",
    "plt.show()"
   ]
  },
  {
   "cell_type": "markdown",
   "id": "54d61844-c46f-49c8-96fb-c596a31019b8",
   "metadata": {},
   "source": [
    "A significantly larger number of individuals prefer on-campus programs, regardless of whether they decide to pursue an MBA or not."
   ]
  },
  {
   "cell_type": "code",
   "execution_count": null,
   "id": "56195203-76b5-43e9-954c-844e024cd073",
   "metadata": {},
   "outputs": [],
   "source": [
    "plt.figure(figsize=(12, 6))\n",
    "ax = sns.countplot(data=df, x='Current Job Title', hue='Decided to Pursue MBA?')\n",
    "for bar in ax.containers:\n",
    "    ax.bar_label(bar)\n",
    "plt.title('Current Job Title vs. Decision to Pursue MBA')\n",
    "plt.xlabel('Current Job Title')\n",
    "plt.ylabel('Count')\n",
    "plt.legend(title='Decided to Pursue MBA?', bbox_to_anchor=(1, 1), loc='upper left')\n",
    "plt.show()"
   ]
  },
  {
   "cell_type": "markdown",
   "id": "2d0264ee-5123-4be1-bf96-d16c3142e47e",
   "metadata": {},
   "source": [
    "Entrepreneur and Engineer show the highest interest in pursuing an MBA among the job titles shown."
   ]
  },
  {
   "cell_type": "code",
   "execution_count": null,
   "id": "da714011-5e22-4acc-8197-519eccfcd808",
   "metadata": {},
   "outputs": [],
   "source": [
    "ax=sns.countplot(data=df, x='Reason for MBA',hue='Decided to Pursue MBA?',palette='Set1')\n",
    "for bar in ax.containers:\n",
    "    ax.bar_label(bar)\n",
    "plt.title('Reason for MBA vs Decide to persue MBA')\n",
    "plt.xlabel('Program Type')\n",
    "plt.ylabel('Count')\n",
    "plt.legend(title='Decided to Pursue MBA?', bbox_to_anchor=(1, 1), loc='upper left')\n",
    "\n",
    "plt.show()"
   ]
  },
  {
   "cell_type": "markdown",
   "id": "78d79345-cf18-4e46-9a23-aa0d85730443",
   "metadata": {},
   "source": [
    "Networking and skill enhancement are the top motivators for those pursuing an MBA, while entrepreneurship is less frequently cited."
   ]
  },
  {
   "cell_type": "markdown",
   "id": "c66cd022-44f1-4961-abc4-bdaf8e7cf92d",
   "metadata": {},
   "source": [
    "**Conclusion**\n",
    "Economics and Science majors, along with individuals with higher GPAs, are more likely to pursue an MBA, expecting a significant salary boost post-MBA. Most MBA aspirants are in the 25-34 age group, prefer on-campus programs, and often fund their education through loans or self-funding. Career growth, driven by networking and skill enhancement, is the primary motivation for pursuing an MBA.\n"
   ]
  },
  {
   "cell_type": "code",
   "execution_count": null,
   "id": "8051ab24-7e53-4ba5-8d35-ec1c7950ec0d",
   "metadata": {},
   "outputs": [],
   "source": []
  }
 ],
 "metadata": {
  "kernelspec": {
   "display_name": "Python 3 (ipykernel)",
   "language": "python",
   "name": "python3"
  },
  "language_info": {
   "codemirror_mode": {
    "name": "ipython",
    "version": 3
   },
   "file_extension": ".py",
   "mimetype": "text/x-python",
   "name": "python",
   "nbconvert_exporter": "python",
   "pygments_lexer": "ipython3",
   "version": "3.13.0"
  }
 },
 "nbformat": 4,
 "nbformat_minor": 5
}
